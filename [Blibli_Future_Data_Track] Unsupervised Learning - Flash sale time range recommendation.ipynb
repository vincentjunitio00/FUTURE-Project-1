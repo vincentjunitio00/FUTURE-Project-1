{
  "nbformat": 4,
  "nbformat_minor": 0,
  "metadata": {
    "colab": {
      "name": "[Blibli Future Data Track] Unsupervised Learning - Flash sale time range recommendation.ipynb",
      "provenance": [],
      "collapsed_sections": [],
      "toc_visible": true,
      "authorship_tag": "ABX9TyNCQHiwbxgoGnsEiFIxZbVW",
      "include_colab_link": true
    },
    "kernelspec": {
      "name": "python3",
      "display_name": "Python 3"
    },
    "language_info": {
      "name": "python"
    }
  },
  "cells": [
    {
      "cell_type": "markdown",
      "metadata": {
        "id": "view-in-github",
        "colab_type": "text"
      },
      "source": [
        "<a href=\"https://colab.research.google.com/github/vincentjunitio00/FUTURE-Project-1/blob/main/%5BBlibli_Future_Data_Track%5D%20Unsupervised%20Learning%20-%20Flash%20sale%20time%20range%20recommendation.ipynb\" target=\"_parent\"><img src=\"https://colab.research.google.com/assets/colab-badge.svg\" alt=\"Open In Colab\"/></a>"
      ]
    },
    {
      "cell_type": "markdown",
      "metadata": {
        "id": "Kyh3LS7Mu0nU"
      },
      "source": [
        "# 1. Frame the problem"
      ]
    },
    {
      "cell_type": "markdown",
      "metadata": {
        "id": "0kbb8FSJu9Ny"
      },
      "source": [
        "Objective: to create an unsupervised learning model (recommendation system) to recommend the flash sale time range recommendation."
      ]
    },
    {
      "cell_type": "markdown",
      "metadata": {
        "id": "9LQUxSt9vYzU"
      },
      "source": [
        "# 2. Import data and library"
      ]
    },
    {
      "cell_type": "code",
      "metadata": {
        "id": "WgdmG9lo8Nji"
      },
      "source": [
        "import pandas as pd\n",
        "import numpy as np\n",
        "import matplotlib.pyplot as plt\n",
        "import seaborn as sns"
      ],
      "execution_count": 1,
      "outputs": []
    },
    {
      "cell_type": "code",
      "metadata": {
        "colab": {
          "base_uri": "https://localhost:8080/",
          "height": 279
        },
        "id": "3BDrQwxC8i8B",
        "outputId": "218a6cc1-d108-4dfa-81c1-51d611da9a35"
      },
      "source": [
        "df_real = pd.read_csv('https://raw.githubusercontent.com/vincentjunitio00/FUTURE-Project-1/main/bq2.csv')\n",
        "\n",
        "# Load another data 'Customer_state_geo.csv' to get the longitude and latitude of states in Indonesia\n",
        "geo = pd.read_csv('https://raw.githubusercontent.com/vincentjunitio00/FUTURE-Project-1/main/Customer_state_geo.csv')\n",
        "geo.columns = ['state', 'latitude', 'longitude']\n",
        "df_real['product_category'] = df_real['product_category'].fillna('others')\n",
        "\n",
        "sns.scatterplot(x = 'latitude', y = 'longitude', data = geo)\n",
        "plt.show()"
      ],
      "execution_count": 2,
      "outputs": [
        {
          "output_type": "display_data",
          "data": {
            "image/png": "[encoded data removed]",
            "text/plain": [
              "<Figure size 432x288 with 1 Axes>"
            ]
          },
          "metadata": {
            "needs_background": "light"
          }
        }
      ]
    },
    {
      "cell_type": "markdown",
      "metadata": {
        "id": "OJhF7U3zvhhj"
      },
      "source": [
        "Take a quick look on the table."
      ]
    },
    {
      "cell_type": "code",
      "metadata": {
        "colab": {
          "base_uri": "https://localhost:8080/",
          "height": 347
        },
        "id": "6Z5R_aSZ8kvR",
        "outputId": "4b8db9fa-7367-4bd0-bc37-d8fe488b7824"
      },
      "source": [
        "df_real.head()"
      ],
      "execution_count": 3,
      "outputs": [
        {
          "output_type": "execute_result",
          "data": {
            "text/html": [
              "<div>\n",
              "<style scoped>\n",
              "    .dataframe tbody tr th:only-of-type {\n",
              "        vertical-align: middle;\n",
              "    }\n",
              "\n",
              "    .dataframe tbody tr th {\n",
              "        vertical-align: top;\n",
              "    }\n",
              "\n",
              "    .dataframe thead th {\n",
              "        text-align: right;\n",
              "    }\n",
              "</style>\n",
              "<table border=\"1\" class=\"dataframe\">\n",
              "  <thead>\n",
              "    <tr style=\"text-align: right;\">\n",
              "      <th></th>\n",
              "      <th>price</th>\n",
              "      <th>shipping_cost</th>\n",
              "      <th>full_time</th>\n",
              "      <th>hour</th>\n",
              "      <th>minute</th>\n",
              "      <th>second</th>\n",
              "      <th>is_morning</th>\n",
              "      <th>is_noon</th>\n",
              "      <th>is_afternoon</th>\n",
              "      <th>is_night</th>\n",
              "      <th>seller_city</th>\n",
              "      <th>seller_state</th>\n",
              "      <th>customer_city</th>\n",
              "      <th>customer_state</th>\n",
              "      <th>product_category</th>\n",
              "    </tr>\n",
              "  </thead>\n",
              "  <tbody>\n",
              "    <tr>\n",
              "      <th>0</th>\n",
              "      <td>239900.0</td>\n",
              "      <td>19930.0</td>\n",
              "      <td>10:53:06</td>\n",
              "      <td>10</td>\n",
              "      <td>53</td>\n",
              "      <td>6</td>\n",
              "      <td>f</td>\n",
              "      <td>t</td>\n",
              "      <td>f</td>\n",
              "      <td>f</td>\n",
              "      <td>KOTA TANGERANG</td>\n",
              "      <td>BANTEN</td>\n",
              "      <td>KABUPATEN MALAKA</td>\n",
              "      <td>NUSA TENGGARA TIMUR</td>\n",
              "      <td>pet_shop</td>\n",
              "    </tr>\n",
              "    <tr>\n",
              "      <th>1</th>\n",
              "      <td>45000.0</td>\n",
              "      <td>12980.0</td>\n",
              "      <td>17:21:27</td>\n",
              "      <td>17</td>\n",
              "      <td>21</td>\n",
              "      <td>27</td>\n",
              "      <td>f</td>\n",
              "      <td>f</td>\n",
              "      <td>t</td>\n",
              "      <td>f</td>\n",
              "      <td>KOTA TANGERANG</td>\n",
              "      <td>BANTEN</td>\n",
              "      <td>KABUPATEN KARAWANG</td>\n",
              "      <td>JAWA BARAT</td>\n",
              "      <td>fashion_bags_accessories</td>\n",
              "    </tr>\n",
              "    <tr>\n",
              "      <th>2</th>\n",
              "      <td>639000.0</td>\n",
              "      <td>11340.0</td>\n",
              "      <td>09:10:41</td>\n",
              "      <td>9</td>\n",
              "      <td>10</td>\n",
              "      <td>41</td>\n",
              "      <td>t</td>\n",
              "      <td>f</td>\n",
              "      <td>f</td>\n",
              "      <td>f</td>\n",
              "      <td>KOTA TANGERANG SELATAN</td>\n",
              "      <td>BANTEN</td>\n",
              "      <td>KOTA JAKARTA TIMUR</td>\n",
              "      <td>DKI JAKARTA</td>\n",
              "      <td>consoles_games</td>\n",
              "    </tr>\n",
              "    <tr>\n",
              "      <th>3</th>\n",
              "      <td>21990.0</td>\n",
              "      <td>11850.0</td>\n",
              "      <td>18:54:23</td>\n",
              "      <td>18</td>\n",
              "      <td>54</td>\n",
              "      <td>23</td>\n",
              "      <td>f</td>\n",
              "      <td>f</td>\n",
              "      <td>f</td>\n",
              "      <td>t</td>\n",
              "      <td>KOTA TANGERANG</td>\n",
              "      <td>BANTEN</td>\n",
              "      <td>KABUPATEN PIDIE</td>\n",
              "      <td>ACEH</td>\n",
              "      <td>telephony</td>\n",
              "    </tr>\n",
              "    <tr>\n",
              "      <th>4</th>\n",
              "      <td>119990.0</td>\n",
              "      <td>44400.0</td>\n",
              "      <td>10:33:13</td>\n",
              "      <td>10</td>\n",
              "      <td>33</td>\n",
              "      <td>13</td>\n",
              "      <td>f</td>\n",
              "      <td>t</td>\n",
              "      <td>f</td>\n",
              "      <td>f</td>\n",
              "      <td>KABUPATEN JOMBANG</td>\n",
              "      <td>JAWA TIMUR</td>\n",
              "      <td>KABUPATEN SUKOHARJO</td>\n",
              "      <td>JAWA TENGAH</td>\n",
              "      <td>office_furniture</td>\n",
              "    </tr>\n",
              "  </tbody>\n",
              "</table>\n",
              "</div>"
            ],
            "text/plain": [
              "      price  shipping_cost  ...       customer_state          product_category\n",
              "0  239900.0        19930.0  ...  NUSA TENGGARA TIMUR                  pet_shop\n",
              "1   45000.0        12980.0  ...           JAWA BARAT  fashion_bags_accessories\n",
              "2  639000.0        11340.0  ...          DKI JAKARTA            consoles_games\n",
              "3   21990.0        11850.0  ...                 ACEH                 telephony\n",
              "4  119990.0        44400.0  ...          JAWA TENGAH          office_furniture\n",
              "\n",
              "[5 rows x 15 columns]"
            ]
          },
          "metadata": {},
          "execution_count": 3
        }
      ]
    },
    {
      "cell_type": "markdown",
      "metadata": {
        "id": "xQ5olWLlw6N-"
      },
      "source": [
        "# 3. Feature selection"
      ]
    },
    {
      "cell_type": "code",
      "metadata": {
        "id": "V6mooNtVwjOU"
      },
      "source": [
        "columns = ['price', 'hour', 'customer_state', 'product_category']\n",
        "df = df_real[columns].copy()"
      ],
      "execution_count": 4,
      "outputs": []
    },
    {
      "cell_type": "code",
      "metadata": {
        "id": "zWy9rgZD3Cre"
      },
      "source": [
        "def check_products(df):\n",
        "  \"\"\" To return the product categories.\n",
        "  Parameters:\n",
        "  df: the dataframe\n",
        "\n",
        "  Return:\n",
        "  The list of product categories\n",
        "  \"\"\"\n",
        "  return np.unique(df['product_category'].tolist())"
      ],
      "execution_count": 5,
      "outputs": []
    },
    {
      "cell_type": "code",
      "metadata": {
        "id": "Pm0r-nw3LRdg"
      },
      "source": [
        "def check_state(product_category):\n",
        "  \"\"\" To return the customer states in which the product category has been sold.\n",
        "  Paremeters:\n",
        "  product_category: the product category\n",
        "\n",
        "  Return:\n",
        "  The list of customer states\n",
        "  \"\"\"\n",
        "  return np.unique(df[df['product_category'] == product_category]['customer_state'].tolist())"
      ],
      "execution_count": 6,
      "outputs": []
    },
    {
      "cell_type": "code",
      "metadata": {
        "id": "a9Bjg6F4N8hH"
      },
      "source": [
        "list_of_products = check_products(df)"
      ],
      "execution_count": 7,
      "outputs": []
    },
    {
      "cell_type": "markdown",
      "metadata": {
        "id": "kgTKJ4UYwPK5"
      },
      "source": [
        "# 4. Model training"
      ]
    },
    {
      "cell_type": "markdown",
      "metadata": {
        "id": "9kHHEzJJychW"
      },
      "source": [
        "# 4.1 First Model"
      ]
    },
    {
      "cell_type": "markdown",
      "metadata": {
        "id": "ogGFeAD95Nkz"
      },
      "source": [
        "The first model only considers the product_category. It loops through each product_category and get its top hour in which that product_category has been sold. The final score for the first recommendation model is the number of items sold on that hour divide by the total number of items sold on that product category."
      ]
    },
    {
      "cell_type": "code",
      "metadata": {
        "id": "GfV57mrbOCeN",
        "colab": {
          "base_uri": "https://localhost:8080/"
        },
        "outputId": "4dde7bf2-0002-4b33-9619-0e9821c45e3b"
      },
      "source": [
        "def first_recommender(df):\n",
        "  \"\"\" To train the first recommendation model.\n",
        "  Parameters:\n",
        "  df: the dataframe \n",
        "\n",
        "  Return:\n",
        "  The model score\n",
        "  \"\"\"\n",
        "  metrics = []\n",
        "  for product_category in list_of_products:\n",
        "    total_product_sales_count = len(df[(df['product_category'] == product_category)])\n",
        "\n",
        "    history = df[(df['product_category'] == product_category)].sort_values('hour', ascending=True)\n",
        "    history.hour = history.hour.astype('object')\n",
        "    top = history.hour.value_counts(ascending=False).head(1).index.tolist()\n",
        "    maximal = top[0]\n",
        "\n",
        "    metric = len(history[(history['hour'] == maximal) & (history['product_category'] == product_category)]) / total_product_sales_count \n",
        "    metrics.append(metric)\n",
        "  return np.mean(metrics)\n",
        "\n",
        "first_result = first_recommender(df)\n",
        "print(\"First recommender score:\", first_result)"
      ],
      "execution_count": 8,
      "outputs": [
        {
          "output_type": "stream",
          "text": [
            "First recommender score: 0.11255083696307312\n"
          ],
          "name": "stdout"
        }
      ]
    },
    {
      "cell_type": "markdown",
      "metadata": {
        "id": "5pwEiVodyw8R"
      },
      "source": [
        "# 4.2 Second model"
      ]
    },
    {
      "cell_type": "markdown",
      "metadata": {
        "id": "34JlaTS37FoW"
      },
      "source": [
        "The second model considers the product_category and the customer_state. It loops through each product_category and find which states that product_category has been sold to. Next, it loops through each state and find its five nearest states. After that, get the hour in which that product_category has sold the most. Finally, count the number of items sold on that hour divide by the total number of items sold on that product category and that states. The score that represents the product_category is the mean of the score within the states looping. The final score for the second recommendation is the mean of all the score that represents the product_category."
      ]
    },
    {
      "cell_type": "code",
      "metadata": {
        "id": "topBOELGhXnn",
        "colab": {
          "base_uri": "https://localhost:8080/"
        },
        "outputId": "f33640af-d57b-40fb-927c-3a313522c696"
      },
      "source": [
        "def second_recommender(df):\n",
        "  \"\"\" To train the second recommendation model.\n",
        "  Parameters:\n",
        "  df: the dataframe\n",
        "\n",
        "  Return:\n",
        "  The model score\n",
        "  \"\"\"\n",
        "  metrics = []\n",
        "  for product_category in list_of_products:\n",
        "    states = check_state(product_category)\n",
        "    metric_states = []\n",
        "    for state in states:\n",
        "      lat, long = geo[geo['state'] == state.upper()]['latitude'].values, geo[geo['state'] == state.upper()]['longitude'].values\n",
        "      geo['distance_towards_state'] = np.sqrt((geo['latitude'] - lat) ** 2 + (geo['longitude'] - long) ** 2)\n",
        "      records = geo.sort_values(by=['distance_towards_state'], ascending=True)\n",
        "      chosen = records.head(5+1)['state'].values\n",
        "    \n",
        "      total_product_sales_count = len(df[(df['product_category'] == product_category) & (df['customer_state'].isin(chosen))])\n",
        "\n",
        "      history = df[(df['customer_state'].isin(chosen)) & (df['product_category'] == product_category)].sort_values('hour', ascending=True)\n",
        "      top = history.hour.value_counts(ascending=False).head(1).index.tolist()\n",
        "      maximal = top[0]\n",
        "\n",
        "      metric_states.append((len(history[(history['hour'] == maximal) & (history['product_category'] == product_category)]) / total_product_sales_count))\n",
        "    mean_metric_states = np.mean(metric_states)\n",
        "    metrics.append(mean_metric_states)\n",
        "  return np.mean(metrics)\n",
        "\n",
        "second_result = second_recommender(df)\n",
        "print(\"Second recommender score:\", second_result)"
      ],
      "execution_count": 9,
      "outputs": [
        {
          "output_type": "stream",
          "text": [
            "Second recommender score: 0.20414849066908175\n"
          ],
          "name": "stdout"
        }
      ]
    },
    {
      "cell_type": "markdown",
      "metadata": {
        "id": "_jk2mmwxzVI9"
      },
      "source": [
        "# 4.3 Third model"
      ]
    },
    {
      "cell_type": "markdown",
      "metadata": {
        "id": "tFy3u9fG86OS"
      },
      "source": [
        "The third recommendation considers the product_category and the price. The price is firstly normalized with log transformation. After the transformation, the normalized price is divided into several categories based on the minimum value, the first quartile, the second quartile (median), the third quartile, and the maximum value. Next, it loops through each product_category and also loops through each category of the normalized price. Then, get the hour in which that product_category has sold the most. Finally, count the number of items sold on that hour divide by the total number of items sold on that product category and that normalized price categories. The score that represents the product_category is the mean of the score within the normalized price categories looping. The final score for the third recommendation is the mean of all the score that represents the product_category."
      ]
    },
    {
      "cell_type": "code",
      "metadata": {
        "id": "2GEsb21bxQb0",
        "colab": {
          "base_uri": "https://localhost:8080/"
        },
        "outputId": "59c76899-f7b3-4195-87de-c33093ad6f62"
      },
      "source": [
        "def third_recommender(df):\n",
        "  \"\"\" To train the third recommendation model.\n",
        "  Parameters:\n",
        "  df: the dataframe\n",
        "\n",
        "  Return:\n",
        "  The model score\n",
        "  \"\"\"\n",
        "  metrics = []\n",
        "  for product_category in list_of_products:\n",
        "    df_category = df[df['product_category'] == product_category].copy()\n",
        "    df_category['price_normalized'] = np.log(df_category['price'])\n",
        "    quantiles = np.unique(df_category[df_category['product_category'] == product_category]['price_normalized'].quantile([0, 0.25, 0.5, 0.75, 1]).tolist())\n",
        "    df_category['price_cat'] = pd.cut(df_category[df_category['product_category'] == product_category]['price_normalized'], bins=np.insert(quantiles, 0, -1), labels=np.arange(len(quantiles)))\n",
        "    cat_list = np.unique(df_category['price_cat'].tolist())\n",
        "    metric_cat = []\n",
        "\n",
        "    for cat in cat_list:\n",
        "      total_product_sales_count = len(df_category[(df_category['product_category'] == product_category) & (df_category['price_cat'] == cat)])\n",
        "\n",
        "      history = df_category[(df_category['product_category'] == product_category) & (df_category['price_cat'] == cat)].sort_values('hour', ascending=True)\n",
        "      history.hour = history.hour.astype('object')\n",
        "      top = history.hour.value_counts(ascending=False).head(1).index.tolist()\n",
        "      maximal = top[0]\n",
        "\n",
        "      metric = len(history[(history['hour'] == maximal) & (history['product_category'] == product_category)]) / total_product_sales_count\n",
        "      metric_cat.append(metric)\n",
        "    metrics.append(np.mean(metric_cat))\n",
        "  return np.mean(metrics)\n",
        "\n",
        "third_result = third_recommender(df)\n",
        "print(\"Third recommender score:\", third_result)"
      ],
      "execution_count": 10,
      "outputs": [
        {
          "output_type": "stream",
          "text": [
            "Third recommender score: 0.29674633777914117\n"
          ],
          "name": "stdout"
        }
      ]
    },
    {
      "cell_type": "markdown",
      "metadata": {
        "id": "e2rFzqgR-aAc"
      },
      "source": [
        "# 5. Model evaluation"
      ]
    },
    {
      "cell_type": "markdown",
      "metadata": {
        "id": "8bdOWunb-LA5"
      },
      "source": [
        "Since the third recommendation model has the greatest score, the third recommendation model is chosen to generate the time range recommendation."
      ]
    },
    {
      "cell_type": "markdown",
      "metadata": {
        "id": "AAGrdbddzryB"
      },
      "source": [
        "# 6. Model recommendation"
      ]
    },
    {
      "cell_type": "markdown",
      "metadata": {
        "id": "mDc4U03T-G6W"
      },
      "source": [
        "#6.1 The first model recommendation (not chosen)"
      ]
    },
    {
      "cell_type": "code",
      "metadata": {
        "id": "z-ZN4uyJxQvq"
      },
      "source": [
        "def first_recommendation(df, product_category):\n",
        "  \"\"\" To generate the time range recommendation with the first model\n",
        "  Parameters:\n",
        "  df: the dataframe\n",
        "  product_category: the offered product_category\n",
        "\n",
        "  Return:\n",
        "  The time range recommendation\n",
        "  \"\"\"\n",
        "  total_product_sales_count = len(df[(df['product_category'] == product_category)])\n",
        "\n",
        "  history = df[(df['product_category'] == product_category)].sort_values('hour', ascending=True)\n",
        "  history.hour = history.hour.astype('object')\n",
        "  top = history.hour.value_counts(ascending=False).head(1).index.tolist()\n",
        "  maximal = top[0]\n",
        "\n",
        "  print(\"We highly recommend you to offer flash sale your {} products from {}:00 to {}:59 WIB.\".format(product_category, maximal, maximal))"
      ],
      "execution_count": 11,
      "outputs": []
    },
    {
      "cell_type": "code",
      "metadata": {
        "colab": {
          "base_uri": "https://localhost:8080/"
        },
        "id": "tnuzbX5K-lu1",
        "outputId": "197b4426-fecb-4c87-cee7-fc5f115f48cd"
      },
      "source": [
        "first_recommendation(df, 'pet_shop')"
      ],
      "execution_count": 12,
      "outputs": [
        {
          "output_type": "stream",
          "text": [
            "We highly recommend you to offer flash sale your pet_shop products from 14:00 to 14:59 WIB.\n"
          ],
          "name": "stdout"
        }
      ]
    },
    {
      "cell_type": "markdown",
      "metadata": {
        "id": "6erlTsfZ-hUV"
      },
      "source": [
        "#6.2 The second model recommendation (not chosen)"
      ]
    },
    {
      "cell_type": "code",
      "metadata": {
        "id": "XN6JRtxWzFRx"
      },
      "source": [
        "def second_recommendation(df, product_category, customer_state):\n",
        "  \"\"\" To generate the time range recommendation with the second model.\n",
        "  Parameters:\n",
        "  df: the dataframe\n",
        "  product_category: the offered product_category\n",
        "  customer_state: the customer_state to target on\n",
        "\n",
        "  Return:\n",
        "  The time range recommendation\n",
        "  \"\"\"\n",
        "  lat, long = geo[geo['state'] == customer_state.upper()]['latitude'].values, geo[geo['state'] == customer_state.upper()]['longitude'].values\n",
        "  geo['distance_towards_state'] = np.sqrt((geo['latitude'] - lat) ** 2 + (geo['longitude'] - long) ** 2)\n",
        "  records = geo.sort_values(by=['distance_towards_state'], ascending=True)\n",
        "  chosen = records.head(5+1)['state'].values\n",
        "\n",
        "  total_product_sales_count = len(df[(df['product_category'] == product_category) & (df['customer_state'].isin(chosen))])\n",
        "\n",
        "  history = df[(df['customer_state'].isin(chosen)) & (df['product_category'] == product_category)].sort_values('hour', ascending=True)\n",
        "  top = history.hour.value_counts(ascending=False).head(1).index.tolist()\n",
        "  maximal = top[0]\n",
        "\n",
        "  print(\"We highly recommend you to offer flash sale your {} products from {}:00 to {}:59 WIB.\".format(product_category, maximal, maximal))"
      ],
      "execution_count": 13,
      "outputs": []
    },
    {
      "cell_type": "code",
      "metadata": {
        "colab": {
          "base_uri": "https://localhost:8080/"
        },
        "id": "syW9ospDzkmg",
        "outputId": "8ff287be-6f5a-44ad-e3e9-1b1c604d522e"
      },
      "source": [
        "second_recommendation(df, 'pet_shop', 'aceh')"
      ],
      "execution_count": 14,
      "outputs": [
        {
          "output_type": "stream",
          "text": [
            "We highly recommend you to offer flash sale your pet_shop products from 12:00 to 12:59 WIB.\n"
          ],
          "name": "stdout"
        }
      ]
    },
    {
      "cell_type": "code",
      "metadata": {
        "colab": {
          "base_uri": "https://localhost:8080/"
        },
        "id": "fkXKlKGJzkfZ",
        "outputId": "923ca7c1-52ac-4c2c-8b97-2458f914231f"
      },
      "source": [
        "second_recommendation(df, 'pet_shop', 'bali')"
      ],
      "execution_count": 15,
      "outputs": [
        {
          "output_type": "stream",
          "text": [
            "We highly recommend you to offer flash sale your pet_shop products from 13:00 to 13:59 WIB.\n"
          ],
          "name": "stdout"
        }
      ]
    },
    {
      "cell_type": "markdown",
      "metadata": {
        "id": "lkJcggT_-nI8"
      },
      "source": [
        "# 6.3 The third model recommendation (chosen)"
      ]
    },
    {
      "cell_type": "code",
      "metadata": {
        "id": "DZgOIo3p0e5d"
      },
      "source": [
        "def third_recommendation(df, product_category, price):\n",
        "  \"\"\" To generate the time range recommendation with the third model.\n",
        "  Parameters:\n",
        "  df: the dataframe\n",
        "  product_category: the offered product_category\n",
        "  price: the offered price\n",
        "\n",
        "  Return:\n",
        "  The time range recommendation\n",
        "  \"\"\"\n",
        "  df_category = df[df['product_category'] == product_category].copy()\n",
        "  df_category['price_normalized'] = np.log(df_category['price'])\n",
        "  quantiles = np.unique(df_category[df_category['product_category'] == product_category]['price_normalized'].quantile([0, 0.25, 0.5, 0.75, 1]).tolist())\n",
        "  df_category['price_cat'] = pd.cut(df_category[df_category['product_category'] == product_category]['price_normalized'], bins=np.insert(quantiles, 0, -1), labels=np.arange(len(quantiles)))\n",
        "  \n",
        "  test_cat = 0\n",
        "  categories = np.unique(df_category['price_cat'])\n",
        "  for cat in categories:\n",
        "    df_cat = df_category[df_category['price_cat'] == cat].copy()\n",
        "    min = df_cat['price_normalized'].min()\n",
        "    price_transformed = np.where(price > 0.0, np.log(price), 0)\n",
        "    if price_transformed >= min:\n",
        "      test_cat = cat\n",
        "\n",
        "  total_product_sales_count = len(df_category[(df_category['product_category'] == product_category) & (df_category['price_cat'] == test_cat)])\n",
        "\n",
        "  history = df_category[(df_category['product_category'] == product_category) & (df_category['price_cat'] == test_cat)].sort_values('hour', ascending=True)\n",
        "  history.hour = history.hour.astype('object')\n",
        "  top = history.hour.value_counts(ascending=False).head(1).index.tolist()\n",
        "  maximal = top[0]\n",
        "\n",
        "  print(\"We highly recommend you to offer flash sale your {} products from {}:00 to {}:59 WIB.\".format(product_category, maximal, maximal))"
      ],
      "execution_count": 16,
      "outputs": []
    },
    {
      "cell_type": "code",
      "metadata": {
        "colab": {
          "base_uri": "https://localhost:8080/"
        },
        "id": "2cYyVo9NEtmq",
        "outputId": "54add692-a54e-4ead-af9a-effb3e1f1341"
      },
      "source": [
        "third_recommendation(df, 'pet_shop', 1000)"
      ],
      "execution_count": 17,
      "outputs": [
        {
          "output_type": "stream",
          "text": [
            "We highly recommend you to offer flash sale your pet_shop products from 12:00 to 12:59 WIB.\n"
          ],
          "name": "stdout"
        }
      ]
    },
    {
      "cell_type": "code",
      "metadata": {
        "colab": {
          "base_uri": "https://localhost:8080/"
        },
        "id": "07AdXf_Q-sPu",
        "outputId": "f375231f-153c-43fd-a36d-7717732d1388"
      },
      "source": [
        "third_recommendation(df, 'pet_shop', 12000)"
      ],
      "execution_count": 18,
      "outputs": [
        {
          "output_type": "stream",
          "text": [
            "We highly recommend you to offer flash sale your pet_shop products from 14:00 to 14:59 WIB.\n"
          ],
          "name": "stdout"
        }
      ]
    },
    {
      "cell_type": "markdown",
      "metadata": {
        "id": "pdgF8LWU-yjX"
      },
      "source": [
        "# 7. Conclusion"
      ]
    },
    {
      "cell_type": "markdown",
      "metadata": {
        "id": "mCSHn7jO-0h7"
      },
      "source": [
        "Since the third recommendation model is chosen, the seller will be required to fill the product_category and the price in order to generate the time range recommendation to offer the flash sale."
      ]
    }
  ]
}